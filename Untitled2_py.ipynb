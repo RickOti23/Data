{
  "nbformat": 4,
  "nbformat_minor": 0,
  "metadata": {
    "colab": {
      "provenance": [],
      "authorship_tag": "ABX9TyOAPKE6TBPT1GnLtYjVZ7z1"
    },
    "kernelspec": {
      "name": "python3",
      "display_name": "Python 3"
    },
    "language_info": {
      "name": "python"
    }
  },
  "cells": [
    {
      "cell_type": "code",
      "execution_count": 1,
      "metadata": {
        "colab": {
          "base_uri": "https://localhost:8080/"
        },
        "id": "-bOgyJU0jBcv",
        "outputId": "7843bb0a-1e2c-48e1-a8f0-a1f4c4ffd596"
      },
      "outputs": [
        {
          "output_type": "stream",
          "name": "stdout",
          "text": [
            "Enter the first number: 5\n",
            "Enter the second number: 6\n",
            "Enter the operation (+, -, *, /): +\n",
            "5.0 + 6.0 = 11.0\n"
          ]
        }
      ],
      "source": [
        "def calculator():\n",
        "    #Input values\n",
        "    num1 = float(input(\"Enter the first number: \"))\n",
        "    num2 = float(input(\"Enter the second number: \"))\n",
        "    operation = input(\"Enter the operation (+, -, *, /): \")\n",
        "    if operation == \"+\":\n",
        "        result = num1 + num2\n",
        "        print(f\"{num1} + {num2} = {result}\")\n",
        "    elif operation == \"-\":\n",
        "        result = num1 - num2\n",
        "        print(f\"{num1} - {num2} = {result}\")\n",
        "    elif operation == \"*\":\n",
        "        result = num1 * num2\n",
        "        print(f\"{num1} * {num2} = {result}\")\n",
        "    elif operation == \"/\":\n",
        "        if num2 != 0:\n",
        "            result = num1 / num2\n",
        "            print(f\"{num1} / {num2} = {result}\")\n",
        "        else:\n",
        "            print(\"Error: Division by zero is not allowed.\")\n",
        "    else:\n",
        "        print(\"Invalid operation! Please enter one of +, -, *, or /.\")\n",
        "\n",
        "#calling the function\n",
        "calculator()"
      ]
    }
  ]
}